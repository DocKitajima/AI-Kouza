{
  "nbformat": 4,
  "nbformat_minor": 0,
  "metadata": {
    "colab": {
      "provenance": [],
      "authorship_tag": "ABX9TyPvV0Y9pdwM7AcVrSpYigyu",
      "include_colab_link": true
    },
    "kernelspec": {
      "name": "python3",
      "display_name": "Python 3"
    },
    "language_info": {
      "name": "python"
    }
  },
  "cells": [
    {
      "cell_type": "markdown",
      "metadata": {
        "id": "view-in-github",
        "colab_type": "text"
      },
      "source": [
        "<a href=\"https://colab.research.google.com/github/DocKitajima/AI-Kouza/blob/main/check_libraryversion.ipynb\" target=\"_parent\"><img src=\"https://colab.research.google.com/assets/colab-badge.svg\" alt=\"Open In Colab\"/></a>"
      ]
    },
    {
      "cell_type": "markdown",
      "source": [
        "**ライブラリのバージョン確認**\n",
        "\n",
        "演習で利用するPythonとライブラリのバージョンを確認します。\n",
        "（Google Colaboratoryでプリインストールされているもの）"
      ],
      "metadata": {
        "id": "650t1PlcbSrw"
      }
    },
    {
      "cell_type": "code",
      "execution_count": null,
      "metadata": {
        "id": "HMSTSZHea18e"
      },
      "outputs": [],
      "source": [
        "# 2025/05/08 modified\n",
        "\n",
        "# ライブラリの読み込み\n",
        "try:\n",
        "    import sys\n",
        "    pythonExists = True\n",
        "except ImportError:\n",
        "    pythonExists = False\n",
        "\n",
        "try:\n",
        "    import cv2\n",
        "    opencvExists = True\n",
        "except ImportError:\n",
        "    opencvExists = False\n",
        "\n",
        "try:\n",
        "    import sklearn\n",
        "    sklearnExists = True\n",
        "except ImportError:\n",
        "    sklearnExists = False\n",
        "\n",
        "try:\n",
        "    import numpy\n",
        "    numpyExists = True\n",
        "except ImportError:\n",
        "    numpyExists = False\n",
        "\n",
        "try:\n",
        "    import scipy\n",
        "    scipyExists = True\n",
        "except ImportError:\n",
        "    scipyExists = False\n",
        "\n",
        "try:\n",
        "    import matplotlib\n",
        "    matplotlibExists = True\n",
        "except ImportError:\n",
        "    matplotlibExists = False\n",
        "\n",
        "try:\n",
        "    from PIL import Image\n",
        "    PILExists = True\n",
        "except ImportError:\n",
        "    PILExists = False\n",
        "\n",
        "try:\n",
        "    import keras\n",
        "    kerasExists = True\n",
        "except ImportError:\n",
        "    kerasExists = False\n",
        "\n",
        "try:\n",
        "    import tensorflow as tf\n",
        "    tensorflowExists = True\n",
        "except ImportError:\n",
        "    tensorflowExists = False\n",
        "\n",
        "\n",
        "# バージョンを画面表示\n",
        "print('利用するPython & ライブラリのバージョン\\n')\n",
        "if pythonExists == True:\n",
        "    print('Python       {0}.{1}.{2}'.format(sys.version_info[0],sys.version_info[1],sys.version_info[2]))\n",
        "else:\n",
        "    print('Pythonのバージョンを取得できませんでした')\n",
        "\n",
        "if opencvExists == True:\n",
        "    print('OpenCV       {0}'.format(cv2.__version__))\n",
        "else:\n",
        "    print('OpenCVのバージョンを取得できませんでした')\n",
        "\n",
        "if sklearnExists == True:\n",
        "    print('scikit-learn {0}'.format(sklearn.__version__))\n",
        "else:\n",
        "    print('scikit-learnはインストールされていません')\n",
        "\n",
        "if numpyExists == True:\n",
        "    print('numpy        {0}'.format(numpy.__version__))\n",
        "else:\n",
        "    print('numpyはインストールされていません')\n",
        "\n",
        "if scipyExists == True:\n",
        "    print('SciPy        {0}'.format(scipy.__version__))\n",
        "else:\n",
        "    print('SciPyはインストールされていません')\n",
        "\n",
        "if matplotlibExists == True:\n",
        "    print('Matplotlib   {0}'.format(matplotlib.__version__))\n",
        "else:\n",
        "    print('Matplotlibはインストールされていません')\n",
        "\n",
        "if PILExists == True:\n",
        "    print('Pillow       {0}'.format(Image.__version__))\n",
        "else:\n",
        "    print('Pillowはインストールされていません')\n",
        "\n",
        "if kerasExists == True:\n",
        "    print('Keras        {0}'.format(keras.__version__))\n",
        "else:\n",
        "    print('Kerasがインストールされていません')\n",
        "\n",
        "if tensorflowExists == True:\n",
        "    print('TensorFlow   {0}'.format(tf.__version__))\n",
        "else:\n",
        "    print('TensorFlowはインストールされていません')"
      ]
    },
    {
      "cell_type": "markdown",
      "source": [],
      "metadata": {
        "id": "ikAzmy5xbPg6"
      }
    }
  ]
}